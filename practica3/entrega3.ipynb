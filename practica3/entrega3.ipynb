{
 "cells": [
  {
   "cell_type": "code",
   "execution_count": 1,
   "id": "4f2214e9-903f-46d1-830d-e1be42affc0e",
   "metadata": {
    "tags": []
   },
   "outputs": [],
   "source": [
    "import numpy as np\n",
    "import matplotlib.pyplot as plt\n",
    "import scipy"
   ]
  },
  {
   "cell_type": "markdown",
   "id": "d1b4e240-37d5-43a0-b5e7-c91e0a25359d",
   "metadata": {},
   "source": [
    "# 3. Principio del Máximo"
   ]
  },
  {
   "cell_type": "markdown",
   "id": "d9fc8412-1d42-4f5e-9dac-842058f8643d",
   "metadata": {},
   "source": [
    "## a)"
   ]
  },
  {
   "cell_type": "markdown",
   "id": "ea7b559a-8d45-4661-9699-668c01183dbb",
   "metadata": {},
   "source": [
    "Supongamos que $u(x_0) = min_{x\\in\\overline{\\Omega}} u(x)$ con $x_0\\in \\Omega$"
   ]
  },
  {
   "cell_type": "markdown",
   "id": "ba03995f-e81d-4fa0-90c1-d01af5395ff3",
   "metadata": {},
   "source": [
    "Entonces tenemos que:\n",
    "\\begin{equation}\n",
    "\\frac{\\partial u}{\\partial x_i}(x_0) = 0\n",
    "\\end{equation}"
   ]
  },
  {
   "cell_type": "markdown",
   "id": "efe4990d-39ad-4c1a-8fc3-9a4bd725c9c6",
   "metadata": {},
   "source": [
    "Además, al ser $u(x_0)$ un mínimo, entonces se dá:\n",
    "\\begin{equation}\n",
    "\\frac{\\partial^2 u}{\\partial x_i^2}(x_0)\\geq0\n",
    "\\end{equation}"
   ]
  },
  {
   "cell_type": "markdown",
   "id": "b427e259-7235-4b3e-b03c-0165385c58ac",
   "metadata": {},
   "source": [
    "Entonces, sustituimos en la ecuación (5) para $x=x_0$:\n",
    "\\begin{equation}\n",
    "L[u](x_0)=-\\sum_{i=1}^d a_i(x) \\frac{\\partial^2 u}{\\partial x_i^2} (x_0) \\leq 0\n",
    "\\end{equation}"
   ]
  },
  {
   "cell_type": "markdown",
   "id": "69231e88-4723-4e66-8a1c-7d41f1e91135",
   "metadata": {},
   "source": [
    "Lo cual contradice que sea mayor estricto que 0"
   ]
  },
  {
   "cell_type": "markdown",
   "id": "b7d996b0-cfdb-4c0c-8826-fea2749ceacf",
   "metadata": {},
   "source": [
    "## b)"
   ]
  },
  {
   "cell_type": "markdown",
   "id": "dbd63e80-1780-48ee-9901-ddabab6dd311",
   "metadata": {},
   "source": [
    "Sea $u$ tal que $L[u](x)\\geq 0$.\n",
    "El operador $L$ es lineal, entonces:\n",
    "\\begin{equation}\n",
    "L[v_\\epsilon](x)=L[u](x)-\\epsilon L[\\Phi](x)\\geq -\\epsilon L[\\Phi](x) \\underbrace{\\geq}_{L[\\Phi]\\leq -1} \\epsilon >0\n",
    "\\end{equation}"
   ]
  },
  {
   "cell_type": "markdown",
   "id": "7447f0e6-e678-46e0-9462-ba1a2bfa0def",
   "metadata": {},
   "source": [
    "Entonces podemos aplicar el apartado (a) a $v_\\epsilon$"
   ]
  },
  {
   "cell_type": "markdown",
   "id": "60e6c567-0289-4aaf-83f7-9fa5f896a271",
   "metadata": {},
   "source": [
    "## c)"
   ]
  },
  {
   "cell_type": "markdown",
   "id": "23791429-b38f-4faa-bc1f-fb96b8cb9d28",
   "metadata": {},
   "source": [
    "Sea $(v_n)_n=u-\\frac{1}{n}\\Phi$."
   ]
  },
  {
   "cell_type": "markdown",
   "id": "ff226c6c-aebc-453f-b473-114129781a43",
   "metadata": {},
   "source": [
    "Sabemos que $v_n \\xrightarrow{n\\rightarrow\\infty}u$ uniformemente, ya que $|v_n-u|=\\frac{1}{n}|\\Phi|\\leq \\frac{1}{n}M \\xrightarrow{n\\rightarrow\\infty}0$."
   ]
  },
  {
   "cell_type": "markdown",
   "id": "223a6190-517d-4ff3-b0cc-20951345cf23",
   "metadata": {},
   "source": [
    "Por reducción a lo absurdo, suponemos que existe un mínimo en el interior más pequeño que en la frontera:"
   ]
  },
  {
   "cell_type": "markdown",
   "id": "6f326316-88d6-4f2d-aed9-844cac9d4048",
   "metadata": {},
   "source": [
    "Sea $x_0\\in\\Omega, x_1\\in\\partial \\Omega$ tal que $u(x_0)=\\min_{ \\Omega} u(x)<\\min_{\\partial \\Omega} u(x)=u(x_1)$. Osea que $u(x_1)-u(x_0)>0$."
   ]
  },
  {
   "cell_type": "markdown",
   "id": "ab0e7e3d-4c75-41a8-9d11-55f76d2c02fe",
   "metadata": {},
   "source": [
    "Sea $n_0$ tal que $|v_{n_0}-u|<\\frac{1}{3}(u(x_1)-u(x_0))$"
   ]
  },
  {
   "cell_type": "markdown",
   "id": "abd21cfb-64db-4ca7-8056-9816f092744b",
   "metadata": {},
   "source": [
    "Entonces $v_{n_0}(x) \\in \\left[u(x)-\\frac{1}{3}(u(x_1)-u(x_0)), u(x)+\\frac{1}{3}(u(x_1)-u(x_0))\\right]$. Entonces el mínimo de $v_{n_0}$ cumple:\n",
    "\\begin{equation}\n",
    "\\min_{\\partial \\Omega}v_{n_0}(x) \\geq \\min_{\\partial\\Omega}u(x) - \\frac{1}{3}(u(x_1)-u(x_0)) = u(x_1) -\\frac{1}{3}(u(x_1)-u(x_0)) = \\frac{2}{3}u(x_1) + \\frac{1}{3}u(x_0) =: q_1\n",
    "\\end{equation}"
   ]
  },
  {
   "cell_type": "markdown",
   "id": "3817751b-5e70-44fe-9ca2-12e449620189",
   "metadata": {},
   "source": [
    "\\begin{equation}\n",
    "\\min_{\\Omega} v_{n_0}(x) \\leq \\min_{\\Omega} u(x) + \\frac{1}{3}(u(x_1)-u(x_0)) = u(x_0) + \\frac{1}{3}(u(x_1)-u(x_0)) = \\frac{1}{3}u(x_1) + \\frac{2}{3}u(x_0) =: q_2\n",
    "\\end{equation}"
   ]
  },
  {
   "cell_type": "markdown",
   "id": "9fb1ae45-8b68-46f3-86e3-df5bdb79ee3f",
   "metadata": {},
   "source": [
    "Veamos que $q_1 \\geq q_2$ lo cual entraría en contradicción con lo que hemos demostrado en (b) que el mínimo de $v_{n_0}$ se da el borde."
   ]
  },
  {
   "cell_type": "markdown",
   "id": "c1c9ec57-ff44-4c45-9c74-1f2d3ed13083",
   "metadata": {},
   "source": [
    "\\begin{equation}\n",
    "3q_1 - 3q_2 = u(x_1) - u(x_0) >0\n",
    "\\end{equation}"
   ]
  },
  {
   "cell_type": "markdown",
   "id": "81dc4de4-83b1-408f-96a6-a3dce61a1624",
   "metadata": {},
   "source": [
    "## d)"
   ]
  },
  {
   "cell_type": "markdown",
   "id": "089b970a-e49e-46f5-8fe5-2eae3fabba65",
   "metadata": {},
   "source": [
    "Sea $v:=u_2-u_1\\in\\mathcal{C}^2(\\Omega)\\cup\\mathcal{C}(\\overline{\\Omega})$, entonces veamos que $v$ solo puede ser constantemente 0."
   ]
  },
  {
   "cell_type": "markdown",
   "id": "edb18647-6f54-4782-a86e-52e5da11b02c",
   "metadata": {},
   "source": [
    "O lo que es lo mismo, que la única solución del siguiente problema es única e igual a 0:\n",
    "\\begin{equation}\n",
    "\\begin{cases}\n",
    "L[v](x) = 0 & x\\in \\Omega\\\\\n",
    "v(x) = 0 & x\\in\\partial\\Omega\n",
    "\\end{cases}\n",
    "\\end{equation}"
   ]
  },
  {
   "cell_type": "markdown",
   "id": "5f919ae7-f626-4e66-a7c5-6a687ee71eec",
   "metadata": {},
   "source": [
    "Por el principio del mínimo y máximo tenemos:"
   ]
  },
  {
   "cell_type": "markdown",
   "id": "91a8700a-5aad-4563-8f00-3141284a786b",
   "metadata": {},
   "source": [
    "\\begin{equation}\n",
    "\\begin{cases}\n",
    "\\min_{x\\in\\partial \\Omega} v(x) = \\min_{x\\in\\overline{\\Omega}} v(x) = 0\\\\\n",
    "\\max_{x\\in\\partial \\Omega} v(x) = \\max_{x\\in\\overline{\\Omega}} v(x) = 0\\\\\n",
    "\\end{cases}\n",
    "\\Rightarrow\n",
    "v\\equiv 0\\Rightarrow u_1=u_2\n",
    "\\end{equation}"
   ]
  },
  {
   "cell_type": "markdown",
   "id": "db451e84-63ac-4265-8104-47b316c67569",
   "metadata": {},
   "source": [
    "# 4. Planteamiento del Problema"
   ]
  },
  {
   "cell_type": "markdown",
   "id": "e4f6f994-dc95-472d-93a2-d147370891ef",
   "metadata": {},
   "source": [
    "# 5. El método numérico"
   ]
  },
  {
   "cell_type": "markdown",
   "id": "0cdb5040-1aff-493b-b7d3-d297a346cb10",
   "metadata": {},
   "source": [
    "## e)"
   ]
  },
  {
   "cell_type": "markdown",
   "id": "1799ad1e-9136-4a12-90c9-ff8ae49dfeb0",
   "metadata": {},
   "source": [
    "Por el teorema de Lax, si vemos que es consistente y estable, entonces también es convergente."
   ]
  },
  {
   "cell_type": "markdown",
   "id": "cb963f16-f37a-442f-8b7c-42899a82da70",
   "metadata": {},
   "source": [
    "#### Consistente\n"
   ]
  },
  {
   "cell_type": "markdown",
   "id": "1595d374-5add-4621-a6fa-dace0c16e322",
   "metadata": {},
   "source": [
    "Sea $u_h(x):=u(x)\\,\\forall x\\in \\Omega_h$. Por el Teorema 1 vamos a ver que el método es consistente ya que cumple:\n",
    "\\begin{equation}\n",
    "A_h U_h(x) = Au(x) + T(x)\n",
    "\\end{equation}\n",
    "Efectivamente tenemos que $u=u_h=u_0=0$ en $\\partial \\Omega_h$. Además, si comprobamos las ecuaciones: $A_h u_h(x)$ y $Au(x)$ descritas en el enunciado podemos ver que son equivalentes."
   ]
  },
  {
   "cell_type": "markdown",
   "id": "04ab3310-2910-455f-828d-92a0848cf303",
   "metadata": {},
   "source": [
    "#### Estable"
   ]
  },
  {
   "cell_type": "markdown",
   "id": "ca514334-a6ec-4b9c-98c1-27c175d59b0d",
   "metadata": {},
   "source": [
    "Para ver la estabilidad, utilizamos el teorema 4. Vamos a comprobar que se cumplen las condiciones del teorema."
   ]
  },
  {
   "cell_type": "markdown",
   "id": "9ddc6e9b-4c31-4aef-9f06-ae1300c7f079",
   "metadata": {},
   "source": [
    "$\\exists \\delta>0$ tal que $\\forall h\\leq\\delta$, si $u_h$ cumple\n",
    "\\begin{equation}\n",
    "\\begin{cases}\n",
    "A_h u_h = f & x\\in\\Omega_h\\\\\n",
    "u_h=u_0& x\\in\\partial\\Omega_h\n",
    "\\end{cases}\n",
    "\\end{equation}"
   ]
  },
  {
   "cell_type": "markdown",
   "id": "360c6098-bcce-4fa4-8c3f-ca203b37fea4",
   "metadata": {},
   "source": [
    "Usamos el Teorema 3. Ya que el dominio de nuestro PDE es acotado ($\\Omega\\in[-3/2, 3/2]$), entonces existe $\\Phi\\in\\mathcal{C}^2(\\overline{\\Omega})$ y existe $M_\\Omega>0$ tal que \n",
    "1. $A\\Phi(x) \\leq -L\\quad x\\in\\Omega$\n",
    "2. $\\|\\Phi\\|_\\infty \\leq M_\\Omega$\n",
    "3. $\\Phi \\geq 0$"
   ]
  },
  {
   "cell_type": "markdown",
   "id": "31754883-23e3-4000-9cff-1a462af88e09",
   "metadata": {},
   "source": [
    "(Además, por el corolario 4, se da que $\\exists\\delta\\geq0$ tal que $\\forall h\\leq \\delta$ se cumple $A_h\\Phi_h \\leq -1/2$ )"
   ]
  },
  {
   "cell_type": "markdown",
   "id": "42098419-93af-4492-a627-5dc794a1b5ca",
   "metadata": {},
   "source": [
    "Sea $v:=\\|f\\|_\\infty$, $\\partial \\Omega_h$. Definimos $v_h:=u_h + 2v\\Phi_h$ con $\\Phi_h$ del corolario 4, que además sabemos que existe por el teorema 3."
   ]
  },
  {
   "cell_type": "markdown",
   "id": "b4bbe108-dad0-4668-93de-daeb79e635bf",
   "metadata": {},
   "source": [
    "Entonces:\n",
    "\\begin{equation}\n",
    "A_hv_h = \\underbrace{A_hu_h}_{=f} + 2vA_h\\Phi_h \\underbrace{\\leq}_{\\text{Cor. 4}} f - \\|f\\|_\\infty \\leq 0\n",
    "\\end{equation}"
   ]
  },
  {
   "cell_type": "markdown",
   "id": "1a311081-0065-4595-b658-8a5b44425097",
   "metadata": {},
   "source": [
    "Por el principio del máx:\n",
    "\\begin{equation}\n",
    "v_h\\leq \\max{\\partial\\Omega_h} v_h(x) = \\max_{\\partial\\Omega_h} (u_h + 2v\\Phi_h) = \\|u_0\\|_{\\infty,\\partial\\Omega_h} + 2\\|f\\|_{\\infty,\\Omega_h} M_\\Omega\n",
    "\\end{equation}"
   ]
  },
  {
   "cell_type": "markdown",
   "id": "e0a94347-6fc4-4b68-ad47-1f17aa3163e6",
   "metadata": {},
   "source": [
    "Ya que $\\Phi_h\\geq 0$, entonces $u_h\\leq v_h$. Además $u_h\\leq v_h\\leq \\|u_0\\|_{\\infty,\\partial\\Omega_h} + 2M_\\Omega\\|f\\|_{\\infty,\\Omega_h}$"
   ]
  },
  {
   "cell_type": "markdown",
   "id": "53be86a0-1cc0-4c1f-8f43-dbae73acb6ca",
   "metadata": {},
   "source": [
    "Análogamente, por el principio del min tenemos que: $u_h\\geq -\\|u_0\\| - 2M$. Se cumple las condiciones del teorema 4 y por tanto el método es estable."
   ]
  },
  {
   "cell_type": "markdown",
   "id": "6ebe4293-2787-45db-a970-547ce9536a22",
   "metadata": {},
   "source": [
    "## f)"
   ]
  },
  {
   "cell_type": "markdown",
   "id": "7f476704-3766-430e-a5eb-111ce4f3b790",
   "metadata": {},
   "source": [
    "\\begin{equation}\n",
    "A_h u_h(x,y) = \n",
    "\\underbrace{-\\frac{a(x+\\frac{h_1}{2})(u(x+h_1,y)-u(x,y)) - a(x-\\frac{h_1}{2})(u(x,y)-u(x-h_1,y))}{h_1^2}}_{\\text{(1)}}\n",
    "\\underbrace{-\\frac{b(y+\\frac{h_2}{2})(u(x,y+h_2)- y(x,y))-b(y-\\frac{h_2}{2})(u(x,y)-u(x,y-h_2))}{h_2^2}}_{\\text{(2)}}\n",
    "\\end{equation}"
   ]
  },
  {
   "cell_type": "markdown",
   "id": "64e381cf-63da-4e02-969e-f9147861513e",
   "metadata": {},
   "source": [
    "Para simplificar vamos a utilizar la siguiente notación:\n",
    "\\begin{align}\n",
    "\\alpha_i^+ := a(x_i+h_1/2)\\quad\\quad \\alpha_i^- := a(x_i-h_1/2)\\\\\n",
    "\\beta_j^+ := b(y_j+h_2/2)\\quad\\quad \\beta_j^- := b(y_j-h_2/2) \n",
    "\\end{align}\n",
    "Discretizamos la primera parte para la versión general y despues para los bordes."
   ]
  },
  {
   "cell_type": "markdown",
   "id": "c45354ab-74fd-489b-b4bb-aa30b18994f7",
   "metadata": {},
   "source": [
    "\n",
    "\n",
    "- Para $(1)$:"
   ]
  },
  {
   "cell_type": "markdown",
   "id": "9c8a6b2e-0f43-490a-9342-012a729e16d2",
   "metadata": {},
   "source": [
    "Para $i \\in \\{2,\\dots,N-1\\}$:\n",
    "\\begin{equation}\n",
    "-\\frac{1}{h_1^2}\n",
    "\\left(\n",
    "\\alpha_i^+ u_{i+1}^j -(\\alpha_i^+ + \\alpha_i^-)u_i^j + \\alpha_i^- u_{i-1}^j\n",
    "\\right)\n",
    " = f_i^j\n",
    "\\end{equation}"
   ]
  },
  {
   "cell_type": "markdown",
   "id": "94c68f46-011e-45b5-917c-70283bb8ae0e",
   "metadata": {},
   "source": [
    "For $i=1$:\n",
    "\\begin{equation}\n",
    "-\\frac{\\alpha_1^+(u_2^j - u_1^j) - \\alpha_1^-(u_1^j - u_0^j)}{h_1^2} = f_1^j\n",
    "\\Leftrightarrow\n",
    "-\\frac{1}{h_1^2}\n",
    "\\left(\n",
    "\\alpha_1^+ u_2^j - (\\alpha_1^+ + \\alpha_1^-)u_1^j \n",
    "\\right)\n",
    "= f_i^j\n",
    "\\end{equation}"
   ]
  },
  {
   "cell_type": "markdown",
   "id": "61aadea6-a90f-49f7-9259-6978c2dce2db",
   "metadata": {},
   "source": [
    "For $i=N$:\n",
    "\\begin{equation}\n",
    "-\\frac{\\alpha_N^+(u_{N+1}^j - u_N^j) - \\alpha_N^-(u_N^j - u_{N-1}^j)}{h_1^2} = f_i^j\n",
    "\\Leftrightarrow\n",
    "-\\frac{1}{h_1^2}\n",
    "\\left(\n",
    "\\alpha_N^- u_{N-1}^j -(\\alpha_N^+ + \\alpha_N^-)u_N^j \n",
    "\\right)\n",
    "= f_i^j\n",
    "\\end{equation}"
   ]
  },
  {
   "cell_type": "markdown",
   "id": "b3962c0e-86fa-4533-b239-52bd7e6f3fe4",
   "metadata": {},
   "source": [
    "Por tanto, podemos representar el sistema tal que así:\n",
    "\\begin{equation}\n",
    "UT_x = F \\Leftrightarrow\n",
    "\\begin{pmatrix}\n",
    "u_1^1 & \\dots & u_N^1 \\\\\n",
    "\\vdots & & \\vdots \\\\\n",
    "u_1^M & \\dots & u_N^M\n",
    "\\end{pmatrix}\n",
    "T_x\n",
    "=\n",
    "\\begin{pmatrix}\n",
    "f_1^1 & \\dots & f_N^1 \\\\\n",
    "\\vdots & & \\vdots \\\\\n",
    "f_1^M & \\dots & f_N^M\n",
    "\\end{pmatrix}\n",
    "\\end{equation}"
   ]
  },
  {
   "cell_type": "markdown",
   "id": "2f0792d9-c6ad-4fd6-b95e-376cd8d4152c",
   "metadata": {},
   "source": [
    "donde $T_x$ es la matriz constante dada por:\n",
    "\\begin{equation}\n",
    "T_x =\n",
    "-\\frac{1}{h_1^2}\n",
    "\\begin{pmatrix}\n",
    "-(\\alpha_1^+ + \\alpha_1^-) & \\alpha_2^-  &&&0  \\\\\n",
    "\\alpha_1^+ & -(\\alpha_2^+ + \\alpha_2^-) & \\alpha_3^- && \\\\\n",
    " & \\ddots & \\ddots & \\ddots  \\\\\n",
    "&& \\alpha_{N-2}^+ & -(\\alpha_{N-1}^+ + \\alpha_{N-1}^-) & \\alpha_{N}^- &\\\\\n",
    "0&&& \\alpha_{N-1}^+ &  -(\\alpha_{N}^+ + \\alpha_{N}^-)\n",
    "\\end{pmatrix}\n",
    "\\end{equation}"
   ]
  },
  {
   "cell_type": "markdown",
   "id": "5d6df30e-9d30-4f65-a348-c22fce9e7ed1",
   "metadata": {},
   "source": [
    "\n",
    "\n",
    "- Para (2):"
   ]
  },
  {
   "cell_type": "markdown",
   "id": "0337aaad-2731-40ad-a3d8-5d9919ff0cf1",
   "metadata": {},
   "source": [
    "Si $j\\in\\{2, \\dots, M-1\\}$:"
   ]
  },
  {
   "cell_type": "markdown",
   "id": "06fd5f0c-f7a3-4bbe-bb01-ee440ebb58f2",
   "metadata": {},
   "source": [
    "\\begin{equation}\n",
    "-\\frac{1}{h_2^2} \n",
    "\\left(\n",
    "\\beta_j^- u_i^{j-1}- (\\beta_j^+ + \\beta_j^-)u_i^j+\\beta_j^+ u_i^{j+1}\n",
    "\\right)\n",
    "=f_i^j\n",
    "\\end{equation}"
   ]
  },
  {
   "cell_type": "markdown",
   "id": "4f5d2153-0d90-4b03-9a32-637d134e8d7f",
   "metadata": {},
   "source": [
    "Si $j=1$:"
   ]
  },
  {
   "cell_type": "markdown",
   "id": "94ec2478-167d-4943-944c-78eb66da09b0",
   "metadata": {},
   "source": [
    "\\begin{equation}\n",
    "-\\frac{\\beta_1^+(u_i^{2} - u_i^1) - \\beta_1^-(u_i^1 - u_i^0)}{h_2^2} = f_i^1\n",
    "\\Leftrightarrow\n",
    "-\\frac{1}{h_2^2} \\left(\n",
    "-(\\beta_1^+ + \\beta_1^-)u_i^1+\\beta_1^+ u_i^{2}\n",
    "\\right) = f_i^1\n",
    "\\end{equation}"
   ]
  },
  {
   "cell_type": "markdown",
   "id": "f0c01cd4-1d17-448f-8183-93423b41af21",
   "metadata": {},
   "source": [
    "Si $j=M$:"
   ]
  },
  {
   "cell_type": "markdown",
   "id": "a065288c-357c-4bde-b6f9-b47deb13075b",
   "metadata": {},
   "source": [
    "\\begin{equation}\n",
    "-\\frac{\\beta_{M}^+(u_i^{M+1} - u_i^{M}) - \\beta_M^-(u_i^M - u_i^{M-1})}{h_2^2} = f_i^M\n",
    "\\Leftrightarrow\n",
    "-\\frac{1}{h_2^2} \\left(\n",
    "\\beta_M^- u_i^{M-1}-(\\beta_M^+ + \\beta_M^-)u_i^M\n",
    "\\right) = f_i^M\n",
    "\\end{equation}"
   ]
  },
  {
   "cell_type": "markdown",
   "id": "ef1d0c4b-c0d2-4fd8-8e29-a576d20bcb72",
   "metadata": {},
   "source": [
    "Por tanto, podemos representar el sistema tal que así:\n",
    "\\begin{equation}\n",
    "T_yU = F \\Leftrightarrow\n",
    "T_y\n",
    "\\begin{pmatrix}\n",
    "u_1^1 & \\dots & u_N^1 \\\\\n",
    "\\vdots & & \\vdots \\\\\n",
    "u_1^M & \\dots & u_N^M\n",
    "\\end{pmatrix}=\n",
    "\\begin{pmatrix}\n",
    "f_1^1 & \\dots & f_N^1 \\\\\n",
    "\\vdots & & \\vdots \\\\\n",
    "f_1^M & \\dots & f_N^M\n",
    "\\end{pmatrix}\n",
    "\\end{equation}"
   ]
  },
  {
   "cell_type": "markdown",
   "id": "bee9fb89-d401-40df-a87e-0052ce4232ae",
   "metadata": {},
   "source": [
    "donde $T_y$ es la matriz constante dada por:\n",
    "\\begin{equation}\n",
    "T_y =\n",
    "-\\frac{1}{h_2^2}\n",
    "\\begin{pmatrix}\n",
    "-(\\beta_1^+ + \\beta_1^-) & \\beta_2^+  &&&0  \\\\\n",
    "\\beta_1^- & -(\\beta_2^+ + \\beta_2^-) & \\beta_3^+ && \\\\\n",
    " & \\ddots & \\ddots & \\ddots  \\\\\n",
    "&& \\beta_{M-2}^- & -(\\beta_{M-1}^+ + \\beta_{M-1}^-) & \\beta_{M}^+ &\\\\\n",
    "0&&& \\beta_{M-1}^- &  -(\\beta_{M}^+ + \\beta_{M}^-)\n",
    "\\end{pmatrix}\n",
    "\\end{equation}"
   ]
  },
  {
   "cell_type": "markdown",
   "id": "217a8cf3-a554-4ad0-b30d-061ef216be87",
   "metadata": {},
   "source": [
    "Entonces, finalmente tenemos el sistema:\n",
    "\\begin{equation}\n",
    "T_y U + UT_x = F\n",
    "\\end{equation}"
   ]
  },
  {
   "cell_type": "markdown",
   "id": "a6fd2c9e-c7c1-4c86-affe-1aee10c854e1",
   "metadata": {},
   "source": [
    "## g)"
   ]
  },
  {
   "cell_type": "markdown",
   "id": "d79fe825-6ba1-40da-a48f-bbcc2acf6f85",
   "metadata": {},
   "source": [
    "Resolver el sistema de Silvester es más rápido en términos de complejidad que resolver el sistema a fuerza bruta. \n",
    "1. El algoritmo de Bartels–Stewart tiene una complejidad: $\\mathcal{O}(N,M)=10(M^3+N^3) + 2.5(MN^2 + NM^2)$\n",
    "2. El algoritmo de resolución de sistema lineal es $\\mathcal{O}(n)=n^3$, para nuestro caso, sería una ecuación de $N\\times M$. Por tanto, complejidad: $\\mathcal{O}(N,M)=(NM)^3$."
   ]
  },
  {
   "cell_type": "markdown",
   "id": "0bc99996-3e2d-42d8-84d5-61bddf2007c6",
   "metadata": {},
   "source": [
    "# 6. Resultados Numéricos"
   ]
  },
  {
   "cell_type": "code",
   "execution_count": 2,
   "id": "a69a0457-3a0e-4b27-a850-991776ac0859",
   "metadata": {
    "tags": []
   },
   "outputs": [],
   "source": [
    "C = 40\n",
    "r = 1/2\n",
    "k_x = 25\n",
    "k_y = 25\n",
    "\n",
    "x_lim = (-3/2, 3/2)\n",
    "y_lim = (-3/2, 3/2)"
   ]
  },
  {
   "cell_type": "code",
   "execution_count": 3,
   "id": "e7027ce4-a6e0-4eb4-b695-fdaec84a4376",
   "metadata": {
    "tags": []
   },
   "outputs": [],
   "source": [
    "N = 1000 # x variable\n",
    "M = 2000 # y variable"
   ]
  },
  {
   "cell_type": "code",
   "execution_count": 4,
   "id": "c5652678-3825-407d-8fb1-19e16c2e1cb2",
   "metadata": {
    "tags": []
   },
   "outputs": [],
   "source": [
    "x = np.linspace(x_lim[0], x_lim[1], N+2)\n",
    "y = np.linspace(y_lim[0], y_lim[1], M+2)\n",
    "X,Y = np.meshgrid(x,y)"
   ]
  },
  {
   "cell_type": "code",
   "execution_count": 5,
   "id": "2c8a97e4-cfe0-4e01-a473-cb28ce77aa87",
   "metadata": {
    "tags": []
   },
   "outputs": [],
   "source": [
    "h1 = (x_lim[1]-x_lim[0])/(N+1)\n",
    "h2 = (y_lim[1]-y_lim[0])/(M+1)"
   ]
  },
  {
   "cell_type": "markdown",
   "id": "9ed3d12a-4307-4fd0-8db8-b24ec238baad",
   "metadata": {},
   "source": [
    "## h)"
   ]
  },
  {
   "cell_type": "code",
   "execution_count": 6,
   "id": "86a8d0af-731a-4b2a-9af1-e4b31684003f",
   "metadata": {
    "tags": []
   },
   "outputs": [],
   "source": [
    "f = lambda x,y,C: np.where(x**2+y**2<r**2, C*(1-2*np.sqrt(x**2 + y**2)), 0)"
   ]
  },
  {
   "cell_type": "code",
   "execution_count": 7,
   "id": "c229b650-0ae1-44c4-a604-f7972bc52b5c",
   "metadata": {
    "tags": []
   },
   "outputs": [],
   "source": [
    "a = lambda x,k_x: np.where(np.abs(x)<=1, 1, np.exp(-k_x*(np.abs(x)-1)**2))\n",
    "b = lambda y,k_y: np.where(np.abs(y)<=1, 1, np.exp(-k_y*(np.abs(y)-1)**2))"
   ]
  },
  {
   "cell_type": "code",
   "execution_count": 8,
   "id": "691bc495-dc01-498a-b143-acbc40275944",
   "metadata": {
    "tags": []
   },
   "outputs": [
    {
     "data": {
      "image/png": "[encoded data removed]",
      "text/plain": [
       "<Figure size 640x480 with 2 Axes>"
      ]
     },
     "metadata": {},
     "output_type": "display_data"
    }
   ],
   "source": [
    "plt.contourf(X,Y,f(X,Y,C=C), levels=40)\n",
    "plt.colorbar()\n",
    "plt.show()"
   ]
  },
  {
   "cell_type": "code",
   "execution_count": 9,
   "id": "5080e8a0-1925-42c5-8f3e-b756587a52e5",
   "metadata": {
    "tags": []
   },
   "outputs": [
    {
     "data": {
      "image/png": "[encoded data removed]",
      "text/plain": [
       "<Figure size 1500x500 with 2 Axes>"
      ]
     },
     "metadata": {},
     "output_type": "display_data"
    }
   ],
   "source": [
    "fig, ax = plt.subplots(1,2, figsize=(15,5))\n",
    "ax[0].set_title('$a(x)$')\n",
    "ax[0].plot(x,a(x,k_x=k_x))\n",
    "ax[0].set_xlabel('x')\n",
    "\n",
    "ax[1].set_title('$b(y)$')\n",
    "ax[1].plot(y,b(y,k_y=k_y))\n",
    "ax[1].set_xlabel('y')\n",
    "plt.show()"
   ]
  },
  {
   "cell_type": "markdown",
   "id": "c07fa8a0-ec61-4548-a9fe-74a818de467c",
   "metadata": {},
   "source": [
    "## i)"
   ]
  },
  {
   "cell_type": "code",
   "execution_count": 10,
   "id": "7873b105-e865-49e2-9695-2210f34ab04f",
   "metadata": {
    "tags": []
   },
   "outputs": [],
   "source": [
    "def _Tx(N, k_x):\n",
    "    x = np.linspace(x_lim[0], x_lim[1], N+2)[1:-1]\n",
    "    \n",
    "    d1 = np.diag(a(x-h1/2, k_x=k_x)[1:],1)\n",
    "    d2 = np.diag(a(x+h1/2, k_x=k_x)[:-1],-1)\n",
    "    d3 = -np.diag(a(x+h1/2, k_x=k_x) + a(x-h1/2, k_x=k_x))\n",
    "    return -(d1+d2+d3)/h1**2 "
   ]
  },
  {
   "cell_type": "code",
   "execution_count": 11,
   "id": "fc067e3f-62be-4820-9589-dbdf5eb8043e",
   "metadata": {
    "tags": []
   },
   "outputs": [],
   "source": [
    "def _Ty(M, k_y):\n",
    "    y = np.linspace(y_lim[0], y_lim[1], M+2)[1:-1]\n",
    "    y = y[::-1] # the y-axis is inverted\n",
    "    \n",
    "    d1 = np.diag(b(y+h2/2, k_y=k_y)[1:],1) \n",
    "    d2 = np.diag(b(y-h2/2, k_y=k_y)[:-1],-1)\n",
    "    d3 = -np.diag(b(y+h2/2, k_y=k_y) + b(y-h2/2, k_y=k_y)) \n",
    "    return -(d1+d2+d3)/h2**2"
   ]
  },
  {
   "cell_type": "code",
   "execution_count": 12,
   "id": "cb5a9774-35ef-43a3-aba4-7810f5110088",
   "metadata": {
    "tags": []
   },
   "outputs": [],
   "source": [
    "def _F(N,M,C):\n",
    "    x = np.linspace(x_lim[0], x_lim[1], N+2)[1:-1]\n",
    "    y = np.linspace(y_lim[0], y_lim[1], M+2)[1:-1]\n",
    "    X,Y = np.meshgrid(x,y)\n",
    "    return f(X,Y, C=C)[::-1]"
   ]
  },
  {
   "cell_type": "code",
   "execution_count": 13,
   "id": "ac5d5f6d-c920-42c1-ad83-8ad31db586ac",
   "metadata": {
    "tags": []
   },
   "outputs": [],
   "source": [
    "# Create matrices\n",
    "def ABC(N, M, k_x, k_y, C):\n",
    "    return _Ty(M, k_y), _Tx(N, k_x), _F(N, M, C)"
   ]
  },
  {
   "cell_type": "code",
   "execution_count": 14,
   "id": "8952da01-e042-4bbc-9b98-18d04282ff6d",
   "metadata": {
    "tags": []
   },
   "outputs": [],
   "source": [
    "Ty,Tx,F = ABC(N, M, k_x, k_y, C)"
   ]
  },
  {
   "cell_type": "code",
   "execution_count": 15,
   "id": "07640eb9-20b2-40f9-a80a-30f4095a2fff",
   "metadata": {
    "tags": []
   },
   "outputs": [
    {
     "name": "stdout",
     "output_type": "stream",
     "text": [
      "(1000, 1000)\n",
      "(2000, 2000)\n",
      "(2000, 1000)\n"
     ]
    }
   ],
   "source": [
    "print(Tx.shape)\n",
    "print(Ty.shape)\n",
    "print(F.shape)"
   ]
  },
  {
   "cell_type": "code",
   "execution_count": 16,
   "id": "77dd3f97-1dd5-478c-a920-e0435b42971c",
   "metadata": {
    "tags": []
   },
   "outputs": [],
   "source": [
    "U = scipy.linalg.solve_sylvester(Ty,Tx,F)"
   ]
  },
  {
   "cell_type": "code",
   "execution_count": null,
   "id": "e99df34b-6d61-4dfb-b691-bcb7de638ae6",
   "metadata": {},
   "outputs": [],
   "source": [
    "x = np.linspace(x_lim[0], x_lim[1], N+2)[1:-1]\n",
    "y = np.linspace(y_lim[0], y_lim[1], M+2)[1:-1]\n",
    "X,Y = np.meshgrid(x,y)"
   ]
  },
  {
   "cell_type": "code",
   "execution_count": 17,
   "id": "db30d035-0447-4c79-8a2f-def5056003a2",
   "metadata": {
    "tags": []
   },
   "outputs": [
    {
     "data": {
      "image/png": "[encoded data removed]",
      "text/plain": [
       "<Figure size 640x480 with 2 Axes>"
      ]
     },
     "metadata": {},
     "output_type": "display_data"
    }
   ],
   "source": [
    "plt.contourf(X,Y, U, levels=40)\n",
    "plt.colorbar()\n",
    "plt.show()"
   ]
  },
  {
   "cell_type": "markdown",
   "id": "b5d669cc-3a84-4e2c-8f34-f43631de73ac",
   "metadata": {},
   "source": [
    "## j)"
   ]
  },
  {
   "cell_type": "code",
   "execution_count": 18,
   "id": "ee7b3d9d-af27-45d7-b99b-1979ca1bf81d",
   "metadata": {
    "tags": []
   },
   "outputs": [],
   "source": [
    "Cs = [10, 20, 30]\n",
    "sol1 = [scipy.linalg.solve_sylvester(*ABC(N, M, k_x, k_y, C_i)) for C_i in Cs]"
   ]
  },
  {
   "cell_type": "code",
   "execution_count": 19,
   "id": "820cf5c9-d759-4b85-8bb9-366f79c53af5",
   "metadata": {
    "tags": []
   },
   "outputs": [
    {
     "data": {
      "image/png": "[encoded data removed]",
      "text/plain": [
       "<Figure size 1500x400 with 4 Axes>"
      ]
     },
     "metadata": {},
     "output_type": "display_data"
    }
   ],
   "source": [
    "fig, axs = plt.subplots(1,3, figsize=(15,4))\n",
    "for i, ax in enumerate(fig.axes):\n",
    "    im = ax.contourf(X,Y,sol1[i], levels=40, vmin=0, vmax=20)\n",
    "    ax.set_title(f'C={Cs[i]}')\n",
    "\n",
    "fig.subplots_adjust(right=0.82)\n",
    "cbar_ax = fig.add_axes([0.85, 0.15, 0.02, 0.7])\n",
    "fig.colorbar(im, cax=cbar_ax)\n",
    "plt.show()"
   ]
  },
  {
   "cell_type": "markdown",
   "id": "c024a7f0-089a-4f2b-953c-dd69340d59d9",
   "metadata": {},
   "source": [
    "Observamos que cuanto mayor los valores de $C$ (estufa), más calor hay en la solución estacionaría. Además, observamos simetría en la solución (concuerda con los datos introducidos)."
   ]
  },
  {
   "cell_type": "markdown",
   "id": "b3ba30b3-7930-4e04-9127-87e8e64e7fab",
   "metadata": {},
   "source": [
    "Los resultados concuerdan con la interpretación física: a mayor valor de $C$, mayor valor del foco de calor en el centro de la sala y por tanto la solución estacionaria tambien será mayor."
   ]
  },
  {
   "cell_type": "markdown",
   "id": "8e7898ea-882a-46d9-9941-4b18b01ac278",
   "metadata": {},
   "source": [
    "## k)"
   ]
  },
  {
   "cell_type": "code",
   "execution_count": 20,
   "id": "82a44251-fcc2-4ee8-80a8-4dc7d6e24b22",
   "metadata": {
    "tags": []
   },
   "outputs": [],
   "source": [
    "C = 40\n",
    "k = [0, 15, 20]"
   ]
  },
  {
   "cell_type": "code",
   "execution_count": null,
   "id": "6febab45-38fa-400a-9c3e-90a340a1fc2e",
   "metadata": {
    "tags": []
   },
   "outputs": [],
   "source": [
    "sol2 = [scipy.linalg.solve_sylvester(*ABC(N, M, k_x=ki, k_y=ki, C=C)) for ki in k]"
   ]
  },
  {
   "cell_type": "code",
   "execution_count": null,
   "id": "bf62eda8-718b-4574-8f2e-907cdbf5e8d0",
   "metadata": {
    "tags": []
   },
   "outputs": [],
   "source": [
    "x = np.linspace(x_lim[0], x_lim[1], N+2)[1:-1]\n",
    "y = np.linspace(y_lim[0], y_lim[1], M+2)[1:-1]\n",
    "X,Y = np.meshgrid(x,y)\n",
    "\n",
    "fig, axs = plt.subplots(1,3, figsize=(15,4))\n",
    "for i, ax in enumerate(fig.axes):\n",
    "    im = ax.contourf(X,Y,sol2[i], levels=40, vmin=0,vmax=12)\n",
    "    ax.set_title(f'k={k[i]}')\n",
    "\n",
    "fig.subplots_adjust(right=0.82)\n",
    "cbar_ax = fig.add_axes([0.85, 0.15, 0.02, 0.7])\n",
    "fig.colorbar(im, cax=cbar_ax)\n",
    "plt.show()"
   ]
  },
  {
   "cell_type": "markdown",
   "id": "85cd0a7a-7e62-4c1a-b77c-581fa8e9ae53",
   "metadata": {},
   "source": [
    "El resultado muestra que los valores de $k$ afectan indirectamente el calor en la solución estacionaría. La explicación física sería que a menores valores de aislamiento, más influye la condición de Dirichlet de los bordes. En este caso tenemos condición de Dirichlet =0, entonces influye negativamente en la temperatura de la sala."
   ]
  },
  {
   "cell_type": "markdown",
   "id": "5fd658e2-6776-45ea-b8f5-c115d8c207ac",
   "metadata": {},
   "source": [
    "El caso $k_x=k_y=0$ nos da valores de $a(x)=b(y)=1$, entonces el aislamiento sería uniforme a lo largo de la sala. Además el aislamiento sería mucho menor que en los casos cuando $k_x,k_y>0$"
   ]
  },
  {
   "cell_type": "code",
   "execution_count": null,
   "id": "75289392-db8f-4bf4-a543-cb4977af39d2",
   "metadata": {},
   "outputs": [],
   "source": []
  }
 ],
 "metadata": {
  "kernelspec": {
   "display_name": "anep",
   "language": "python",
   "name": "anep"
  },
  "language_info": {
   "codemirror_mode": {
    "name": "ipython",
    "version": 3
   },
   "file_extension": ".py",
   "mimetype": "text/x-python",
   "name": "python",
   "nbconvert_exporter": "python",
   "pygments_lexer": "ipython3",
   "version": "3.8.8"
  }
 },
 "nbformat": 4,
 "nbformat_minor": 5
}
