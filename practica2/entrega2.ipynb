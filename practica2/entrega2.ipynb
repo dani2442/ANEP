{
 "cells": [
  {
   "cell_type": "code",
   "execution_count": 1,
   "id": "4b925549-d1d7-4c5c-ae60-a7223af289cf",
   "metadata": {
    "tags": []
   },
   "outputs": [],
   "source": [
    "import numpy as np\n",
    "import matplotlib.pyplot as plt"
   ]
  },
  {
   "cell_type": "markdown",
   "id": "0da87310-24e3-46e2-b46f-96d3bec91eba",
   "metadata": {},
   "source": [
    "# 2. Introducción\n",
    "## a)"
   ]
  },
  {
   "cell_type": "markdown",
   "id": "bef2e2a8-8ed6-4595-848b-85a4824bda0a",
   "metadata": {},
   "source": [
    "Sea $\\tilde{x} := x\\sqrt{k_1}$ and $\\tilde{y} := y\\sqrt{k_2}$, entonces"
   ]
  },
  {
   "cell_type": "markdown",
   "id": "80420b84-216e-428f-b056-4fb8dbca20f3",
   "metadata": {},
   "source": [
    "\\begin{equation}\n",
    "h(x,y):=\\begin{pmatrix}\\sqrt{k_1} & 0 \\\\ 0 & \\sqrt{k_2}\\end{pmatrix}\n",
    "\\begin{pmatrix}x \\\\ y\\end{pmatrix}\n",
    "\\end{equation}"
   ]
  },
  {
   "cell_type": "markdown",
   "id": "6998f3bd-bba8-4cd6-8409-ea8d741b0de9",
   "metadata": {},
   "source": [
    "Let $\\tilde{u}(x,y,t) := u(h(x,y), t) = u(\\tilde{x}, \\tilde{y}, t) $"
   ]
  },
  {
   "cell_type": "markdown",
   "id": "d051aa25-02df-457a-a62e-5455b4bff073",
   "metadata": {},
   "source": [
    "Por la regla de la cadena obtenemos:\n",
    "\\begin{equation}\n",
    "\\tilde{u}_t(x,y,t) = u_t(\\tilde{x}, \\tilde{y}, t)\n",
    "\\end{equation}"
   ]
  },
  {
   "cell_type": "markdown",
   "id": "ec16d706-34f6-4359-8d20-a8f313dc4df3",
   "metadata": {
    "tags": []
   },
   "source": [
    "\\begin{equation}\n",
    "\\tilde{u}_x(x,y,t) = \\frac{\\partial \\tilde{x}}{\\partial x}  u_x(\\tilde{x},\\tilde{y},t) + \\frac{\\partial \\tilde{y}}{\\partial x}  u_y(\\tilde{x},\\tilde{y},t) = \\sqrt{k_1} u_x(\\tilde{x},\\tilde{y},t)\n",
    "\\end{equation}\n",
    "\\begin{equation}\n",
    "\\tilde{u}_{xx}(x,y,t) = \\frac{\\partial}{\\partial x} \\sqrt{k_1} u_x(\\tilde{x},\\tilde{y},t) = k_1 u_{xx}(\\tilde{x}, \\tilde{y}, t)\n",
    "\\end{equation}\n",
    "Análogamente para $y$:\n",
    "\\begin{equation}\n",
    "\\tilde{u}_{yy}(x,y,t) = k_2 u_{yy}(\\tilde{x}, \\tilde{y}, t)\n",
    "\\end{equation}"
   ]
  },
  {
   "cell_type": "markdown",
   "id": "9513af61-0b01-407b-9969-3972c2b15069",
   "metadata": {},
   "source": [
    "Veamos que está función es solución de (1):\n",
    "\\begin{equation}\n",
    "\\tilde{u}_t(x,y,t) - \\Delta u(x,y,t) = f(x,y,t) \\Leftrightarrow u_t(\\tilde{x},\\tilde{y},t) - k_1 u_{xx}(\\tilde{x}, \\tilde{y},t) - k_2 u_{yy}(\\tilde{x}, \\tilde{y},t) = f(x,y,t)\n",
    "\\end{equation}"
   ]
  },
  {
   "cell_type": "markdown",
   "id": "fa74a3c9-07a0-4d56-ab05-fb1d61e7be68",
   "metadata": {},
   "source": [
    "Ahora el nuevo dominio es:\n",
    "\\begin{equation}\n",
    "\\Omega' := \\{(x,y): (x\\sqrt{k_1},y\\sqrt{k_2})\\in \\Omega \\} = \\{(x/\\sqrt{k_1},y/\\sqrt{k_2}): (x,y)\\in \\Omega \\}\n",
    "\\end{equation}\n",
    "Por tanto, comprobamos que escalamos el nuevo dominio con $(1/\\sqrt{k_1}, 1/\\sqrt{k_2})$ para cada uno de los axis."
   ]
  },
  {
   "cell_type": "markdown",
   "id": "c32592cf-ae3e-4630-bd3b-c644326d9dd9",
   "metadata": {},
   "source": [
    "## b)"
   ]
  },
  {
   "cell_type": "markdown",
   "id": "a6c3e237-8a78-47dd-b552-c2517c529f05",
   "metadata": {},
   "source": [
    "Sea $\\tilde{u}(x,t) := u(x\\sqrt{k},t)$, donde sabemos la solución:"
   ]
  },
  {
   "cell_type": "markdown",
   "id": "1374bec5-b3ab-466b-b189-e0c87724407c",
   "metadata": {},
   "source": [
    "\\begin{equation}\n",
    "\\tilde{u}(x,t) = \\frac{1}{\\sqrt{4\\pi t}} \\int_{\\mathbb{R}} e^{-\\frac{(x-y)^2}{4t}} \\tilde{u}_0(y) dy\n",
    "\\end{equation}"
   ]
  },
  {
   "cell_type": "markdown",
   "id": "5726e962-1bd0-419e-afad-701cfc980f45",
   "metadata": {},
   "source": [
    "Ahora, sabemos que $\\tilde{u}(x/\\sqrt{k},t) = u(x,t)$. Entonces\n",
    "\n",
    "\\begin{equation}\n",
    "u(x,t) = \\frac{1}{\\sqrt{4\\pi t}} \\int_{\\mathbb{R}} e^{-\\frac{(x/\\sqrt{k}-y)^2}{4t}} \\tilde{u}_0(y) dy \\quad \\quad \\quad (a)\n",
    "\\end{equation}"
   ]
  },
  {
   "cell_type": "markdown",
   "id": "47c69cb7-a948-4676-83e0-4b9b808adb9c",
   "metadata": {},
   "source": [
    "Con el siguiente cambio de $u:=\\sqrt{k}y$:\n",
    "\\begin{equation}\n",
    "u(x,t) = \\frac{1}{\\sqrt{4\\pi tk}} \\int_{\\mathbb{R}} e^{-\\frac{(x-y)^2}{4tk}} \\tilde{u}_0(u/\\sqrt{k}) du =\n",
    "\\frac{1}{\\sqrt{4\\pi tk}} \\int_{\\mathbb{R}} e^{-\\frac{(x-y)^2}{4tk}} u_0(u) du\n",
    "\\end{equation}"
   ]
  },
  {
   "cell_type": "markdown",
   "id": "b49a7f15-5b6d-4ba4-a14e-6ba95840b6e6",
   "metadata": {},
   "source": [
    "Ahora calculamos la derivada con respecto a $k$ sobre la ecuación (a):\n",
    "\\begin{equation}\n",
    "\\frac{\\partial}{\\partial k} u_k(x,t) = \\frac{1}{\\sqrt{4\\pi t}} \\int_{\\mathbb{R}} (-x k^{-3/2}/2)-\\frac{2(x/\\sqrt{k}-y)}{4t}  e^{-\\frac{(x/\\sqrt{k}-y)^2}{4t}} \\tilde{u}_0(y) dy\n",
    "\\end{equation}"
   ]
  },
  {
   "cell_type": "markdown",
   "id": "e0dc0db4-a540-4d2e-abf7-0781092629aa",
   "metadata": {},
   "source": [
    "Observamos que el interior de la integral es positivo, entonces la derivada es positiva"
   ]
  },
  {
   "cell_type": "markdown",
   "id": "1d974ca0-29d3-4f0a-b546-c10b29d232ef",
   "metadata": {},
   "source": [
    "# 3. Principios de Comparación"
   ]
  },
  {
   "cell_type": "markdown",
   "id": "fc62a4b6-b389-4750-930b-7820269bcdab",
   "metadata": {},
   "source": [
    "## c)"
   ]
  },
  {
   "cell_type": "markdown",
   "id": "4819b574-e18d-472d-85a6-8c07c97b4754",
   "metadata": {},
   "source": [
    "La primera desigualdad la tenemos inmediata de aplicar el teorema del principio de comparación con la solución $u\\equiv 0$. Entonces $0 \\leq u_D$ y $0\\leq u_N$."
   ]
  },
  {
   "cell_type": "markdown",
   "id": "b2b79002-9c4c-4db6-bde5-8a71d19acf41",
   "metadata": {},
   "source": [
    "Ahora, vemos para la condición de Neumann:\n",
    "\\begin{equation}\n",
    "\\frac{\\partial u_N}{\\partial n} = 0 \\Rightarrow u_N \\equiv \\text{cte}\\geq 0\n",
    "\\end{equation}\n",
    "Entonces tenemos por el teorema del principio de comparación que $u_D\\leq u_N$"
   ]
  },
  {
   "cell_type": "markdown",
   "id": "25d54fcd-df5d-40e0-bf78-c5bdbe6d08a3",
   "metadata": {},
   "source": [
    "Una vez hemos demostrado que $u_D \\leq u_N$. Podemos demostrar fácilmente que $u_R$ se encuentar entre ambos. Cómo $g^N\\equiv0$ entonces tenemos tres opciones:\n",
    "1) Si $\\alpha,\\beta>0$: entonces se cumple la condición de Neumann y Dirichlet. Por tanto $u_R \\equiv u_D$ y $u_R \\equiv u_D$\n",
    "2) Si $\\alpha=0,\\beta>0$: entonces tenemos la misma condición que Dirichlet. Por tanto $u_R \\equiv u_D$.\n",
    "3) Si $\\alpha>0,\\beta=0$: entonces tenemos la misma condición que Neummann. Por tanto $u_R \\equiv u_N$. \n",
    "\n",
    "De cualquier modo, se cumple la desigualdad"
   ]
  },
  {
   "cell_type": "markdown",
   "id": "f2732ef0-2bda-49a0-8f06-20628752da9a",
   "metadata": {},
   "source": [
    "Una interpretación física de esta desigualdad podría venir de que la condición de Dirichlet pone por frontera una pared a \"temperatura 0\", mientras que Neumann pone un aislamiento (no infiltración de frío por la paredes). Por tanto si $f\\geq 0$, entonces siempre se va a cumplir las condiciones. \n",
    "\n",
    "En cambio, para el apartado siguiente si tenemos una condición frontera positiva para Dirichlet, estamos introduciendo calor por los bordes y entonces la solución de Dirichlet será mayor al principio (como podemos ver en el siguiente apartado)."
   ]
  },
  {
   "cell_type": "markdown",
   "id": "91bed04e-202c-490c-a3ed-1b5797759c7d",
   "metadata": {},
   "source": [
    "## d)"
   ]
  },
  {
   "cell_type": "markdown",
   "id": "465d0295-f378-4de3-b2f2-949ef7fefaea",
   "metadata": {},
   "source": [
    "Por ejemplo si cogemos $g^D=1, g^N=0$ y además $f=0$ entonces $u_D \\xrightarrow{t\\rightarrow\\infty} 1$ mientras que $u_N \\equiv 0$"
   ]
  },
  {
   "cell_type": "markdown",
   "id": "e2fcbf73-59cf-4ef3-b3a1-720296a66da9",
   "metadata": {},
   "source": [
    "# 4. La masa total"
   ]
  },
  {
   "cell_type": "markdown",
   "id": "806ed528-2bfb-4297-a396-e4ea61a507e4",
   "metadata": {},
   "source": [
    "## e)"
   ]
  },
  {
   "cell_type": "markdown",
   "id": "ef4c84e2-90fd-43fe-900d-8b9957b21b20",
   "metadata": {},
   "source": [
    "Integramos la ecuación respecto de x:\n",
    "\\begin{equation}\n",
    "\\underbrace{\\int u_t(x,t) dx}_{(a)} - \\underbrace{\\int u_{xx}(x,t) dx}_{(b)} = \\underbrace{\\int f(x,t) dx}_{(c)}\n",
    "\\end{equation}"
   ]
  },
  {
   "cell_type": "markdown",
   "id": "546a9658-71ff-4617-9d61-88fbd251359f",
   "metadata": {},
   "source": [
    "\\begin{equation}\n",
    "M'(t) = \\int_\\Omega \\frac{\\partial}{\\partial t} u(x,t) dx \n",
    "= \\underbrace{\\int_\\Omega \\Delta u(x,t) dx}_{(a)} + \\underbrace{\\int_\\Omega f(x,t) dx}_{(b)} \n",
    "\\end{equation}\n"
   ]
  },
  {
   "cell_type": "markdown",
   "id": "819f9829-484b-4687-8825-44e0528e2340",
   "metadata": {},
   "source": [
    "\\begin{equation}\n",
    "(a) {=}_{Th. Div} \\int_{\\partial \\Omega} \\nabla u \\cdot n = \\int_{\\partial \\Omega}\\frac{\\partial u}{\\partial n} = 0\n",
    "\\end{equation}"
   ]
  },
  {
   "cell_type": "markdown",
   "id": "4eb560bb-d88b-4daa-91e1-a9f2c5c7d8ec",
   "metadata": {},
   "source": [
    "\\begin{equation}\n",
    "(b) =\n",
    "\\begin{cases}\n",
    "\\int_0^1 (1+\\cos t)x(1-x) = \\left[(1+\\cos t)(x^2/2 - x^3/3)\\right]_0^1 = (1+\\cos t)/6 & \\text{If } t<\\pi\\\\\n",
    "0 & \\text{If } t>\\pi\n",
    "\\end{cases}\n",
    "\\end{equation}"
   ]
  },
  {
   "cell_type": "markdown",
   "id": "c3e60475-8039-4d97-8f85-12576e19ab70",
   "metadata": {},
   "source": [
    "Ahora integramos $M$:\n",
    "\\begin{equation}\n",
    "M(t) = M(0) + \\int_0^t M'(t) = \\underbrace{ \\int_0^1 x^2(1-x)^2 dx}_{(1)} + \\underbrace{\\int_0^{\\min\\{\\pi, t\\}} M'(t) dt}_{(2)}\n",
    "\\end{equation}"
   ]
  },
  {
   "cell_type": "markdown",
   "id": "a25ffb35-ffc0-4618-ad21-b1243a46d265",
   "metadata": {},
   "source": [
    "\\begin{equation}\n",
    "(1) = x^3/3 + x^5/5 -2x^4/4 ]_0^1 = 1/3 + 1/5 - 1/2 = 1/30\n",
    "\\end{equation}"
   ]
  },
  {
   "cell_type": "markdown",
   "id": "1860819f-66c2-4336-84b9-fc01dc449014",
   "metadata": {},
   "source": [
    "\\begin{equation}\n",
    "(2) = \\left[(t+\\sin t)/6 \\right]_0^{\\min\\{\\pi, t\\}} = \n",
    "\\begin{cases}\n",
    "(t+\\sin t)/6 & \\text{If } t<\\pi \\\\\n",
    "\\pi/6 & \\text{If } t>\\pi\n",
    "\\end{cases}\n",
    "\\end{equation}"
   ]
  },
  {
   "cell_type": "code",
   "execution_count": 24,
   "id": "8165b91d-0003-4e6d-bd82-0f4f6d5ec998",
   "metadata": {
    "tags": []
   },
   "outputs": [],
   "source": [
    "mass_t = lambda x: 1/30 + np.minimum((x+np.sin(x))/6, np.pi/6)\n",
    "t_m = np.linspace(0, 5, 100)"
   ]
  },
  {
   "cell_type": "code",
   "execution_count": 25,
   "id": "6cd9db74-82da-4498-9f3c-a2ecd7ec49ff",
   "metadata": {
    "tags": []
   },
   "outputs": [
    {
     "data": {
      "image/png": "[encoded data removed]",
      "text/plain": [
       "<Figure size 640x480 with 1 Axes>"
      ]
     },
     "metadata": {},
     "output_type": "display_data"
    }
   ],
   "source": [
    "plt.plot(t_m, mass_t(t_m))\n",
    "plt.xlabel('t')\n",
    "plt.ylabel('mass')\n",
    "plt.show()"
   ]
  },
  {
   "cell_type": "markdown",
   "id": "9e7b62d3-4d35-4d26-bfcb-3e01472890c7",
   "metadata": {},
   "source": [
    "# 5. Planteamiento numérico"
   ]
  },
  {
   "cell_type": "markdown",
   "id": "23d1b982-10ab-4056-8d49-c8230d25653f",
   "metadata": {},
   "source": [
    "## f)"
   ]
  },
  {
   "cell_type": "markdown",
   "id": "3633d869-7f09-493f-8d4b-3b7608d2ecab",
   "metadata": {},
   "source": [
    "\\begin{equation}\n",
    "\\frac{u_i^{j+1} - u_i^j}{\\Delta t} = \n",
    "\\theta \\frac{u_{i+1}^{j+1} - 2u_i^{j+1} + u_{i-1}^{j+1}}{\\Delta x^2}\n",
    "+\n",
    "(1-\\theta)\\frac{u_{i+1}^j - 2u_i^j + u_{i-1}^j}{\\Delta x^2} + \\theta f_i^{j+1} + (1-\\theta)f_i^j\n",
    "\\end{equation}"
   ]
  },
  {
   "cell_type": "markdown",
   "id": "bd1e8227-99c9-48b7-930e-6e5856fffa87",
   "metadata": {},
   "source": [
    "Si $\\theta=0$ tenemos el método explícito (Forward), si $\\theta=1$ tenemos el método implicito (Backward). Ambos son métodos de orden $\\mathcal{O}(\\Delta t, \\Delta x^2)$. Tienen de ventaja que hacen falta menos operaciones y para el caso explícito, no haría falta resolver ninguna matriz."
   ]
  },
  {
   "cell_type": "markdown",
   "id": "d87a204a-0d20-4890-a898-7d75399081b6",
   "metadata": {},
   "source": [
    "Si $\\theta = 1/2$ tenemos un método de orden $\\mathcal{O}(\\Delta t^2, \\Delta x^2)$, por tanto, será ventajoso utilizar este último si nos enfocamos en disminuir el error."
   ]
  },
  {
   "cell_type": "markdown",
   "id": "86cbc93d-f58a-47a0-b549-574547e6c467",
   "metadata": {},
   "source": [
    "## g)"
   ]
  },
  {
   "cell_type": "markdown",
   "id": "3db71edb-119d-4064-b7cf-47ddec7ff376",
   "metadata": {},
   "source": [
    "\\begin{equation}\n",
    "Au=b \\Leftrightarrow\\begin{pmatrix}\n",
    "(1+2\\theta\\lambda)  & -\\lambda\\theta & 0 & \\dots & 0 \\\\\n",
    "-\\lambda\\theta & (1+2\\lambda\\theta) & -\\lambda\\theta & \\dots & \\vdots \\\\\n",
    "0 & \\lambda\\theta & \\ddots & \\ddots & \\vdots \\\\\n",
    "\\vdots & & \\ddots & (1+2\\theta\\lambda) & -\\lambda\\theta \\\\\n",
    "0& \\dots& & \\lambda\\theta & (1+2\\theta\\lambda) \n",
    "\\end{pmatrix}\n",
    "\\begin{pmatrix}\n",
    "u_1^{j+1} \\\\\n",
    "u_2^{j+1} \\\\\n",
    "\\vdots \\\\\n",
    "u_{N-2}^{j+1} \\\\\n",
    "u_{N-1}^{j+1}\n",
    "\\end{pmatrix}\n",
    "=\n",
    "\\begin{pmatrix}\n",
    "b_1^{j} \\\\\n",
    "b_2^{j} \\\\\n",
    "\\vdots \\\\\n",
    "b_{N-2}^{j} \\\\\n",
    "b_{N-1}^{j}\n",
    "\\end{pmatrix}\n",
    "\\end{equation}"
   ]
  },
  {
   "cell_type": "markdown",
   "id": "596d3e20-24ce-48d9-aaf1-d32c92cb960b",
   "metadata": {},
   "source": [
    "Ahora, para el nuevo sistema con las condiciones de Neumann se incorpora dos condiciones al sistema para satisfacer la siguiente igualdad:\n",
    "\\begin{equation}\n",
    "\\frac{\\partial u}{\\partial x}(0,t) = \\frac{\\partial u}{\\partial x}(1,t) = 0\n",
    "\\end{equation}\n",
    "Las escribiriamos así:\n",
    "\\begin{equation}\n",
    "\\begin{cases}\n",
    "u_0^{j+1} + u_1^{j+1} = 0 \\\\\n",
    "u_{N}^{j+1} + u_{N-1}^{j+1} = 0 \n",
    "\\end{cases}\n",
    "\\end{equation}"
   ]
  },
  {
   "cell_type": "markdown",
   "id": "53475a0a-ff5d-47ca-bf38-94a397a7c112",
   "metadata": {},
   "source": [
    "Entonces el esquema matricial nos quedaría así:"
   ]
  },
  {
   "cell_type": "markdown",
   "id": "5b76db78-f2a2-4cb1-9046-49a644400906",
   "metadata": {},
   "source": [
    "\\begin{equation}\n",
    "Au=b \\Leftrightarrow\\begin{pmatrix}\n",
    "1 & 1 & 0 & \\dots & &0 & 0\\\\\n",
    "0 & (1+2\\theta\\lambda)  & -\\lambda\\theta & 0 & \\dots & 0 & 0 \\\\\n",
    "0 & -\\lambda\\theta & (1+2\\lambda\\theta) & -\\lambda\\theta & \\dots & \\vdots & \\vdots \\\\\n",
    "\\vdots & 0 & \\lambda\\theta & \\ddots & \\ddots & \\vdots & \\vdots\\\\\n",
    "\\vdots &\\vdots & & \\ddots & (1+2\\theta\\lambda) & -\\lambda\\theta & \\vdots\\\\\n",
    "0 & 0& \\dots& & \\lambda\\theta & (1+2\\theta\\lambda) & \\vdots \\\\\n",
    "0 & \\vdots & 0 & \\dots &0 &1 & 1\n",
    "\\end{pmatrix}\n",
    "\\begin{pmatrix}\n",
    "u_0^{j+1} \\\\\n",
    "u_1^{j+1} \\\\\n",
    "u_2^{j+1} \\\\\n",
    "\\vdots \\\\\n",
    "u_{N-2}^{j+1} \\\\\n",
    "u_{N-1}^{j+1}\\\\\n",
    "u_N^{j+1} \\\\\n",
    "\\end{pmatrix}\n",
    "=\n",
    "\\begin{pmatrix}\n",
    "0\\\\\n",
    "b_1^{j} \\\\\n",
    "b_2^{j} \\\\\n",
    "\\vdots \\\\\n",
    "b_{N-2}^{j} \\\\\n",
    "b_{N-1}^{j}\\\\\n",
    "0\n",
    "\\end{pmatrix}\n",
    "\\end{equation}"
   ]
  },
  {
   "cell_type": "markdown",
   "id": "e32fd4c8-afb5-4488-a9cb-edc5d946ed60",
   "metadata": {},
   "source": [
    "## h)"
   ]
  },
  {
   "cell_type": "markdown",
   "id": "2dc18e1d-6d44-487a-b257-5cc7c92b7d70",
   "metadata": {},
   "source": [
    "Para la condición de Dirichlet es más sencillo, ya que directamente podemos dar el valor 0 a $u_{0}^{j+1}$ y $u_{N}^{j+1}$"
   ]
  },
  {
   "cell_type": "markdown",
   "id": "1ea73826-3ea3-4ae6-9ffe-7557ab7e8377",
   "metadata": {},
   "source": [
    "Entonces el esquema matricial nos quedaría tal que así:"
   ]
  },
  {
   "cell_type": "markdown",
   "id": "e7a48e0c-19df-4480-85df-98a60d9840a1",
   "metadata": {},
   "source": [
    "\\begin{equation}\n",
    "Au=b \\Leftrightarrow\\begin{pmatrix}\n",
    "1 & 0 & 0 & \\dots & &0 & 0\\\\\n",
    "0 & (1+2\\theta\\lambda)  & -\\lambda\\theta & 0 & \\dots & 0 & 0 \\\\\n",
    "0 & -\\lambda\\theta & (1+2\\lambda\\theta) & -\\lambda\\theta & \\dots & \\vdots & \\vdots \\\\\n",
    "\\vdots & 0 & \\lambda\\theta & \\ddots & \\ddots & \\vdots & \\vdots\\\\\n",
    "\\vdots &\\vdots & & \\ddots & (1+2\\theta\\lambda) & -\\lambda\\theta & \\vdots\\\\\n",
    "0 & 0& \\dots& & \\lambda\\theta & (1+2\\theta\\lambda) & \\vdots \\\\\n",
    "0 & \\vdots & 0 & \\dots &0 &0 & 1\n",
    "\\end{pmatrix}\n",
    "\\begin{pmatrix}\n",
    "u_0^{j+1} \\\\\n",
    "u_1^{j+1} \\\\\n",
    "u_2^{j+1} \\\\\n",
    "\\vdots \\\\\n",
    "u_{N-2}^{j+1} \\\\\n",
    "u_{N-1}^{j+1}\\\\\n",
    "u_N^{j+1} \\\\\n",
    "\\end{pmatrix}\n",
    "=\n",
    "\\begin{pmatrix}\n",
    "0\\\\\n",
    "b_1^{j} \\\\\n",
    "b_2^{j} \\\\\n",
    "\\vdots \\\\\n",
    "b_{N-2}^{j} \\\\\n",
    "b_{N-1}^{j}\\\\\n",
    "0\n",
    "\\end{pmatrix}\n",
    "\\end{equation}"
   ]
  },
  {
   "cell_type": "markdown",
   "id": "c0d85c76-a72b-4bcb-ab7a-031b1138ba1f",
   "metadata": {},
   "source": [
    "# 6. Resultados Numéricos"
   ]
  },
  {
   "cell_type": "markdown",
   "id": "16fc7e84-33fa-4426-9010-466984d9ed3c",
   "metadata": {},
   "source": [
    "## i)"
   ]
  },
  {
   "cell_type": "code",
   "execution_count": 29,
   "id": "3df71523-f33e-40cb-847b-2eee22b4aa95",
   "metadata": {
    "tags": []
   },
   "outputs": [],
   "source": [
    "N = 100\n",
    "M = 80\n",
    "T = 5\n",
    "theta = 0.5\n",
    "lambd = 1\n",
    "\n",
    "dt = T/M\n",
    "dx = 1/N\n",
    "\n",
    "x = np.linspace(0,1,N+1)\n",
    "t = np.linspace(0,T,M+1)\n",
    "X,T = np.meshgrid(x,t)"
   ]
  },
  {
   "cell_type": "code",
   "execution_count": 30,
   "id": "da3b3baf-3170-484e-97e9-e23297b702af",
   "metadata": {
    "tags": []
   },
   "outputs": [
    {
     "name": "stdout",
     "output_type": "stream",
     "text": [
      "True\n"
     ]
    }
   ],
   "source": [
    "# Comprobamos que el método es estable y convergente\n",
    "print(lambd*(1-theta)<=1/2)"
   ]
  },
  {
   "cell_type": "code",
   "execution_count": 31,
   "id": "c61503f2-d799-43ef-99b0-04197cd3893b",
   "metadata": {
    "tags": []
   },
   "outputs": [],
   "source": [
    "f = lambda t,x: np.where(t<np.pi, (1+np.cos(t))*x*(1-x) ,0)\n",
    "u_0 = lambda x: x**2*(1-x)**2"
   ]
  },
  {
   "cell_type": "code",
   "execution_count": 32,
   "id": "d7debb33-e5ee-4a7b-ad3d-c1eccd50de83",
   "metadata": {
    "tags": []
   },
   "outputs": [],
   "source": [
    "def numerical_neumann(u_0, theta, lambd):\n",
    "    A = np.diag([1+2*theta*lambd]*(N-1),0) + np.diag([-theta*lambd]*(N-2),1) + np.diag([-theta*lambd]*(N-2),-1)\n",
    "    A_inv = np.linalg.inv(A)\n",
    "\n",
    "    u = np.zeros((M+1,N+1))\n",
    "    u[0] = u_0(x)\n",
    "\n",
    "    for j in range(len(t)-1):\n",
    "        b = np.zeros(N-1)\n",
    "        for i in range(1,len(x)-1):\n",
    "            b[i-1]=lambd*(1-theta)*(u[j][i+1]+u[j][i-1] + u[j][i]*(1-2*lambd*(1-theta))) + dt*(theta*f(t[j+1],x[i]) + (1-theta)*f(t[j],x[i]))\n",
    "\n",
    "        u[j+1][1:-1] = np.dot(A_inv,b)\n",
    "\n",
    "        u[j+1][0] = u[j+1][1]\n",
    "        u[j+1][-1] = u[j+1][-2]\n",
    "        \n",
    "    return u"
   ]
  },
  {
   "cell_type": "code",
   "execution_count": 33,
   "id": "a83efe73-d200-4b71-8ef1-0058e47bd715",
   "metadata": {
    "tags": []
   },
   "outputs": [],
   "source": [
    "u_N = numerical_neumann(u_0, theta, lambd)"
   ]
  },
  {
   "cell_type": "code",
   "execution_count": 34,
   "id": "c5067f0b-69de-43e2-be3e-80291e4b111d",
   "metadata": {
    "tags": []
   },
   "outputs": [
    {
     "data": {
      "image/png": "[encoded data removed]",
      "text/plain": [
       "<Figure size 640x480 with 2 Axes>"
      ]
     },
     "metadata": {},
     "output_type": "display_data"
    }
   ],
   "source": [
    "plt.contourf(X,T,u_N, levels=20)\n",
    "plt.colorbar()\n",
    "plt.title('Neumann')\n",
    "plt.xlabel('x')\n",
    "plt.ylabel('t')\n",
    "plt.show()"
   ]
  },
  {
   "cell_type": "markdown",
   "id": "f8f45732-894b-48cb-9ac3-b768f2f52bda",
   "metadata": {},
   "source": [
    "## j)"
   ]
  },
  {
   "cell_type": "markdown",
   "id": "32c52939-3823-4ff0-a062-b6b84c46b3a0",
   "metadata": {},
   "source": [
    "We integrate the discretization of the solution $u_N$:\n",
    "\\begin{equation}\n",
    "M(t) = \\int_0^1 u_N(x, t) dx\n",
    "\\end{equation}"
   ]
  },
  {
   "cell_type": "code",
   "execution_count": 35,
   "id": "131ddf81-60c9-4a4d-891e-71db1d681dab",
   "metadata": {},
   "outputs": [],
   "source": [
    "mass_e = np.trapz(u_N, dx=dx, axis=1) # regla del trapecio"
   ]
  },
  {
   "cell_type": "code",
   "execution_count": 36,
   "id": "4332fb51-45f3-4d28-8564-7b89a58bc2b2",
   "metadata": {
    "tags": []
   },
   "outputs": [
    {
     "data": {
      "image/png": "[encoded data removed]",
      "text/plain": [
       "<Figure size 640x480 with 1 Axes>"
      ]
     },
     "metadata": {},
     "output_type": "display_data"
    }
   ],
   "source": [
    "plt.plot(t,mass_e, label='Experimental')\n",
    "plt.plot(t_m,mass_t(t_m), label='Teórica')\n",
    "plt.legend()\n",
    "plt.xlabel('t')\n",
    "plt.ylabel('mass')\n",
    "plt.show()"
   ]
  },
  {
   "cell_type": "markdown",
   "id": "d0da8056-ee30-41b9-91bc-8355ce27858c",
   "metadata": {},
   "source": [
    "## k)"
   ]
  },
  {
   "cell_type": "code",
   "execution_count": 37,
   "id": "c9d83681-fb2c-476b-ae23-7a426f4a5fba",
   "metadata": {
    "tags": []
   },
   "outputs": [],
   "source": [
    "def numerical_dirichlet(u_0, theta, lambd):\n",
    "    A = np.diag([1+2*theta*lambd]*(N-1),0) + np.diag([-theta*lambd]*(N-2),1) + np.diag([-theta*lambd]*(N-2),-1)\n",
    "    A_inv = np.linalg.inv(A)\n",
    "    \n",
    "    u = np.zeros((M+1,N+1))\n",
    "    u[0] = u_0(x)\n",
    "\n",
    "    for j in range(len(t)-1):\n",
    "        b = np.zeros(N-1)\n",
    "        for i in range(1,len(x)-1):\n",
    "            b[i-1]=lambd*(1-theta)*(u[j][i+1]+u[j][i-1] + u[j][i]*(1-2*lambd*(1-theta))) + dt*(theta*f(t[j+1],x[i]) + (1-theta)*f(t[j],x[i]))\n",
    "\n",
    "        u[j+1][1:-1] = np.dot(A_inv,b)   \n",
    "        \n",
    "    return u"
   ]
  },
  {
   "cell_type": "code",
   "execution_count": 38,
   "id": "e0996edb-ba10-4a81-a80f-34f23a4e2ff4",
   "metadata": {},
   "outputs": [],
   "source": [
    "u_D = numerical_dirichlet(u_0, theta, lambd)"
   ]
  },
  {
   "cell_type": "code",
   "execution_count": 39,
   "id": "bb730b05-c750-43de-92e2-0f9eb5f048af",
   "metadata": {
    "tags": []
   },
   "outputs": [
    {
     "data": {
      "image/png": "[encoded data removed]",
      "text/plain": [
       "<Figure size 640x480 with 2 Axes>"
      ]
     },
     "metadata": {},
     "output_type": "display_data"
    }
   ],
   "source": [
    "plt.contourf(X,T,u_D, levels=20)\n",
    "plt.title('Dirichlet')\n",
    "plt.xlabel('x')\n",
    "plt.ylabel('t')\n",
    "plt.colorbar()\n",
    "plt.show()"
   ]
  },
  {
   "cell_type": "markdown",
   "id": "b9506ff3-9b3b-4c9b-b29b-8a1e426b4168",
   "metadata": {},
   "source": [
    "Podemos ver que $u_N\\geq u_D$ para nuestra solución numérica como se demostró en el ejercició teórico."
   ]
  },
  {
   "cell_type": "code",
   "execution_count": 40,
   "id": "0c0db6c9-4b3f-4a47-93c9-4a8d6818f4c9",
   "metadata": {
    "tags": []
   },
   "outputs": [
    {
     "data": {
      "text/plain": [
       "0.0"
      ]
     },
     "execution_count": 40,
     "metadata": {},
     "output_type": "execute_result"
    }
   ],
   "source": [
    "np.min(u_N-u_D)"
   ]
  },
  {
   "cell_type": "markdown",
   "id": "3f67ee35-6637-4ecb-b94e-97c774f68254",
   "metadata": {},
   "source": [
    "Y también vemos ploteado la diferencia, como se puede ver, la diferencia viene dada sobre todo en los bordes:"
   ]
  },
  {
   "cell_type": "code",
   "execution_count": 41,
   "id": "1c4543ef-bc2a-4bd8-905e-b69b5266a37b",
   "metadata": {
    "tags": []
   },
   "outputs": [
    {
     "data": {
      "image/png": "[encoded data removed]",
      "text/plain": [
       "<Figure size 640x480 with 2 Axes>"
      ]
     },
     "metadata": {},
     "output_type": "display_data"
    }
   ],
   "source": [
    "plt.contourf(X,T,u_N-u_D, levels=20)\n",
    "plt.colorbar()\n",
    "plt.xlabel('x')\n",
    "plt.ylabel('t')\n",
    "plt.show()"
   ]
  },
  {
   "cell_type": "markdown",
   "id": "187be5d0-3a5f-4371-a968-e3b570eed250",
   "metadata": {},
   "source": [
    "Cambiamos las condiciones iniciales para valores negativos de x_0 (en este caso -1)"
   ]
  },
  {
   "cell_type": "code",
   "execution_count": 42,
   "id": "9073f0b3-2c9c-453b-ba36-ca3411d73493",
   "metadata": {
    "tags": []
   },
   "outputs": [],
   "source": [
    "v_0 = lambda x: -1"
   ]
  },
  {
   "cell_type": "code",
   "execution_count": 43,
   "id": "c2d825bc-f42e-4cb7-bc6f-60d252df911f",
   "metadata": {
    "tags": []
   },
   "outputs": [],
   "source": [
    "v_N = numerical_neumann(v_0, theta, lambd)\n",
    "v_D = numerical_dirichlet(v_0, theta, lambd)"
   ]
  },
  {
   "cell_type": "markdown",
   "id": "db485ee6-4a0c-4661-bc48-cd7e4aaceb4a",
   "metadata": {},
   "source": [
    "Comprobamos que $v_N \\not\\geq v_D$"
   ]
  },
  {
   "cell_type": "code",
   "execution_count": 44,
   "id": "d85102c1-2283-4bbc-a2fd-ee50f3c87729",
   "metadata": {
    "tags": []
   },
   "outputs": [
    {
     "data": {
      "text/plain": [
       "-0.7308230577887198"
      ]
     },
     "execution_count": 44,
     "metadata": {},
     "output_type": "execute_result"
    }
   ],
   "source": [
    "np.min(v_N-v_D)"
   ]
  },
  {
   "cell_type": "markdown",
   "id": "1be373f6-ef16-45d6-b0df-00d98df3816b",
   "metadata": {},
   "source": [
    "Una interpretación física sería que en este caso al ser la solución menor que 0, las condiciones frontera (para Dirichlet) suman energía al sistema en vez de restar como en el caso anterior."
   ]
  },
  {
   "cell_type": "code",
   "execution_count": null,
   "id": "58f6c0e2-1119-46bb-a434-4a7ec03ba5f0",
   "metadata": {},
   "outputs": [],
   "source": []
  }
 ],
 "metadata": {
  "kernelspec": {
   "display_name": "anep",
   "language": "python",
   "name": "anep"
  },
  "language_info": {
   "codemirror_mode": {
    "name": "ipython",
    "version": 3
   },
   "file_extension": ".py",
   "mimetype": "text/x-python",
   "name": "python",
   "nbconvert_exporter": "python",
   "pygments_lexer": "ipython3",
   "version": "3.8.8"
  }
 },
 "nbformat": 4,
 "nbformat_minor": 5
}
